{
 "cells": [
  {
   "cell_type": "code",
   "execution_count": 85,
   "id": "0",
   "metadata": {},
   "outputs": [
    {
     "data": {
      "text/plain": [
       "'LSTMで時系列予測を行う'"
      ]
     },
     "execution_count": 85,
     "metadata": {},
     "output_type": "execute_result"
    }
   ],
   "source": [
    "#!/usr/bin/env python\n",
    "# -*- coding: utf-8 -*-\n",
    "'''LSTMで時系列予測を行う'''"
   ]
  },
  {
   "cell_type": "code",
   "execution_count": 86,
   "id": "1",
   "metadata": {},
   "outputs": [
    {
     "name": "stdout",
     "output_type": "stream",
     "text": [
      "tensorflow\n"
     ]
    }
   ],
   "source": [
    "import os\n",
    "os.environ[\"KERAS_BACKEND\"] = \"tensorflow\"\n",
    "import keras\n",
    "print(keras.backend.backend())"
   ]
  },
  {
   "cell_type": "code",
   "execution_count": 87,
   "id": "2",
   "metadata": {},
   "outputs": [],
   "source": [
    "import gc\n",
    "from matplotlib import pyplot as plt\n",
    "import numpy as np\n",
    "import optuna\n",
    "import pandas as pd\n",
    "import pickle\n",
    "import shutil\n",
    "from sklearn.metrics import mean_squared_error"
   ]
  },
  {
   "cell_type": "code",
   "execution_count": 88,
   "id": "3",
   "metadata": {},
   "outputs": [],
   "source": [
    "# 乱数固定\n",
    "SEED = 20241001\n",
    "keras.utils.set_random_seed(SEED)\n",
    "import os\n",
    "os.environ['PYTHONHASHSEED'] = str(SEED)\n",
    "import numpy as np\n",
    "np.random.seed(SEED)\n",
    "import random\n",
    "random.seed(SEED)\n",
    "import tensorflow as tf\n",
    "tf.random.set_seed(SEED)"
   ]
  },
  {
   "cell_type": "code",
   "execution_count": 89,
   "id": "4",
   "metadata": {},
   "outputs": [],
   "source": [
    "# 定数\n",
    "BATCH_SIZE = 12\t# ミニバッチのサイズ\n",
    "EPOCHS = 450\t# 学習回数(1〜)\n",
    "N_TEST = 12\t# 最後のこの月数分を予測する\n",
    "TIMESTEPS_IN = 12\t# 入力時系列長\n",
    "TIMESTEPS_OUT = 1\t# 出力時系列長\n",
    "\n",
    "VALIDATION_SPLIT = 0.2 # 学習データ末尾からこの比率だけ精度確認用に用いる\n",
    "\n",
    "N_TRIALS = 1\t# ハイパーパラメータの探索トライアル数\n",
    "N_LOOPS = 5\t# ハイパーパラメータの探索トライアルループ数(総トライアル数=N_TRIALS*N_LOOPS)\n",
    "\n",
    "SAVE_NAME = 'study_rnn'"
   ]
  },
  {
   "cell_type": "code",
   "execution_count": 90,
   "id": "5",
   "metadata": {},
   "outputs": [],
   "source": [
    "# データを生成する関数\n",
    "def make_data(X):\n",
    "    # 念のためnp.arrayに変換\n",
    "    x = np.asarray(X) if X.ndim\t> 1 else np.asarray(X).reshape(-1, 1)\n",
    "\n",
    "    # x+yの配列に変換\n",
    "    x = np.asarray([x[i:i+TIMESTEPS_IN+TIMESTEPS_OUT] for i in range(len(x)-TIMESTEPS_IN-TIMESTEPS_OUT+1)])\n",
    "\n",
    "    # BATCH_SIZEの倍数になるよう先頭を切り捨て\n",
    "    x = np.asarray(x[len(x)%BATCH_SIZE:])\n",
    "\n",
    "    # xとyに分離\n",
    "    x_data = x[:, :TIMESTEPS_IN].reshape(-1, TIMESTEPS_IN, x.shape[-1])\n",
    "    y_data = x[:, -TIMESTEPS_OUT:].reshape(-1, TIMESTEPS_OUT, x.shape[-1])\n",
    "\n",
    "    # n_train_trainを算出\n",
    "    n_train = len(x)-N_TEST\n",
    "    n_train_train = int(n_train*(1-VALIDATION_SPLIT)//BATCH_SIZE*BATCH_SIZE)\n",
    "\n",
    "    # train, val, testに分割\n",
    "    x_train = x_data[:n_train_train]\n",
    "    y_train = y_data[:n_train_train]\n",
    "    x_val = x_data[n_train_train:-N_TEST]\n",
    "    y_val = y_data[n_train_train:-N_TEST]\n",
    "    x_test = x_data[len(x_data)-N_TEST:]\n",
    "    y_test = y_data[len(y_data)-N_TEST:]\n",
    "\n",
    "    return (x_train, y_train), (x_val, y_val), (x_test, y_test)"
   ]
  },
  {
   "cell_type": "code",
   "execution_count": 91,
   "id": "6",
   "metadata": {},
   "outputs": [],
   "source": [
    "# モデルを構築する関数\n",
    "def make_model(layers, stateful, units, dropout):\n",
    "    inputs = keras.layers.Input(batch_shape=(BATCH_SIZE, TIMESTEPS_IN, 1))\n",
    "    x = inputs\n",
    "    for i in range(layers):\n",
    "        x = keras.layers.LSTM(units=units, stateful=stateful, return_sequences=(i < layers-1))(x)\n",
    "        \n",
    "    x = keras.layers.Dropout(dropout)(x)\n",
    "    x = keras.layers.Dense(TIMESTEPS_OUT)(x)\n",
    "    outputs = keras.layers.Reshape(target_shape=(TIMESTEPS_OUT, 1))(x)\n",
    "\n",
    "    model = keras.models.Model(inputs=inputs, outputs=outputs)\n",
    "    return model"
   ]
  },
  {
   "cell_type": "code",
   "execution_count": 92,
   "id": "7",
   "metadata": {},
   "outputs": [],
   "source": [
    "# モデル内の全レイヤのreset_stetesを呼び出す関数\n",
    "def reset_states(model):\n",
    "    for layer in model.layers:\n",
    "        if hasattr(layer, 'reset_states'):\n",
    "            layer.reset_states()"
   ]
  },
  {
   "cell_type": "code",
   "execution_count": 93,
   "id": "8",
   "metadata": {},
   "outputs": [],
   "source": [
    "# エポック終了時に実行(pruneなし)\n",
    "def on_epoch_end(epoch, logs={}):\n",
    "    reset_states(model)"
   ]
  },
  {
   "cell_type": "code",
   "execution_count": 94,
   "id": "9",
   "metadata": {},
   "outputs": [],
   "source": [
    "# 最適化の目的関数\n",
    "def objective(trial, optimize=True):\n",
    "\n",
    "    # エポック終了時に実行(pruneあり)\n",
    "    def on_epoch_end_prune(epoch, logs={}):\n",
    "        trial.report(logs.get('loss'), epoch)\n",
    "        if trial.should_prune():\n",
    "            print(f'pruned: epoch={epoch}, loss={logs.get(\"loss\")}, val_loss={logs.get(\"val_loss\")}')\n",
    "            raise optuna.TrialPruned()\n",
    "\n",
    "        reset_states(model)\n",
    "\n",
    "    # ハイパーパラメータ\n",
    "    layers = trial.suggest_int('layers', 1, 6) # LSTMレイヤの数(1〜)\n",
    "    stateful = True # LSTMをstatefulにするかどうか(False/True)\n",
    "    units = trial.suggest_int('units', 1, 128) # LSTM層の出力ユニット数(1〜)\n",
    "    dropout = trial.suggest_float('dropout', 0, 0.5) # LSTM層からの出力のドロップアウト率(0.0〜1.0)\n",
    "    learning_rate = trial.suggest_float('learning_rate', 0.000001, 0.1)\t# 学習率(0<)\n",
    "\n",
    "    # 学習用モデル生成\n",
    "    model = make_model(\n",
    "        layers=layers,\n",
    "        stateful=stateful,\n",
    "        units=units,\n",
    "        dropout=dropout,\n",
    "    )\n",
    "    \n",
    "    # 学習ループ構築\n",
    "    model.compile(optimizer=keras.optimizers.AdamW(learning_rate=learning_rate, clipnorm=0.001), loss=keras.losses.LogCosh(), metrics=['mse'])\n",
    "\n",
    "    # コールバック(pruneあり)\n",
    "    callback = keras.callbacks.LambdaCallback(on_epoch_end=on_epoch_end_prune)\n",
    "\n",
    "    # 学習(validation_split=VALIDATION_SPLIT)\n",
    "    try:\n",
    "        model.fit(x_train, y_train, batch_size=BATCH_SIZE, epochs=EPOCHS, validation_data=(x_val, y_val), shuffle=False, verbose=0, callbacks=[callback])\n",
    "    except optuna.TrialPruned as e:\n",
    "        print(f'TrialPruned: {e}')\n",
    "        raise optuna.TrialPruned()\n",
    "    except KeyboardInterrupt:\n",
    "        print('keyboard interrupted')\n",
    "        val_loss, val_mse = float('nan'), float('nan')\n",
    "    except Exception as e:\n",
    "        print(f'Error: {e}')\n",
    "        val_loss, val_mse = float('nan'), float('nan')\n",
    "    else:\n",
    "        # 精度を計算\n",
    "        # epoch終了時にstateはリセットされているのでここでのリセットは不要\n",
    "        model.evaluate(x_train, y_train, batch_size=BATCH_SIZE, verbose=0) # stateを進める\n",
    "        val_loss, val_mse = model.evaluate(x_val, y_val, batch_size=BATCH_SIZE, verbose=0)\n",
    "    finally:\n",
    "        # 掃除\n",
    "        del model\n",
    "        keras.backend.clear_session()\n",
    "        gc.collect\n",
    "    \n",
    "    print(f'{val_loss=}, {val_mse=}')\n",
    "\n",
    "    # 結果を返す(MSE最小化を目指す)\n",
    "    return val_mse"
   ]
  },
  {
   "cell_type": "code",
   "execution_count": 95,
   "id": "10",
   "metadata": {},
   "outputs": [],
   "source": [
    "# データ読み込み\n",
    "df = pd.read_csv('data/international-airline-passengers.csv', engine='python', skipfooter=3)\n",
    "df_p = df['passengers']"
   ]
  },
  {
   "cell_type": "code",
   "execution_count": 96,
   "id": "11",
   "metadata": {},
   "outputs": [],
   "source": [
    "# 標準化\n",
    "std = df_p.std()\n",
    "mean = df_p.mean()\n",
    "df_s = (df_p - mean) / std"
   ]
  },
  {
   "cell_type": "code",
   "execution_count": 97,
   "id": "12",
   "metadata": {},
   "outputs": [
    {
     "name": "stdout",
     "output_type": "stream",
     "text": [
      "x_train.shape=(84, 12, 1), y_train.shape=(84, 1, 1), x_val.shape=(24, 12, 1), y_val.shape=(24, 1, 1), x_test.shape=(12, 12, 1), y_test.shape=(12, 1, 1)\n"
     ]
    }
   ],
   "source": [
    "# データ整形\n",
    "(x_train, y_train), (x_val, y_val), (x_test, y_test) = make_data(df_s)\n",
    "print(f'{x_train.shape=}, {y_train.shape=}, {x_val.shape=}, {y_val.shape=}, {x_test.shape=}, {y_test.shape=}')"
   ]
  },
  {
   "cell_type": "code",
   "execution_count": 98,
   "id": "2e26f553",
   "metadata": {},
   "outputs": [],
   "source": [
    "# 開始時刻記録\n",
    "import time\n",
    "start_time = time.time()"
   ]
  },
  {
   "cell_type": "code",
   "execution_count": 99,
   "id": "13",
   "metadata": {},
   "outputs": [],
   "source": [
    "# 既に最適化済みのパラメータセットがあればここに設定する\n",
    "best_params={}"
   ]
  },
  {
   "cell_type": "code",
   "execution_count": 100,
   "id": "14",
   "metadata": {},
   "outputs": [
    {
     "name": "stderr",
     "output_type": "stream",
     "text": [
      "[I 2025-06-03 18:52:06,122] A new study created in memory with name: no-name-f3a71a6d-c299-47b4-8c88-c3e4d9e30c63\n",
      "[I 2025-06-03 18:52:59,875] Trial 0 finished with value: 0.04363824054598808 and parameters: {'layers': 1, 'units': 40, 'dropout': 0.05361584483320092, 'learning_rate': 0.01841361563364898}. Best is trial 0 with value: 0.04363824054598808.\n"
     ]
    },
    {
     "name": "stdout",
     "output_type": "stream",
     "text": [
      "val_loss=0.021276624873280525, val_mse=0.04363824054598808\n",
      "best_params[0001]={'layers': 1, 'units': 40, 'dropout': 0.05361584483320092, 'learning_rate': 0.01841361563364898} # best_value=0.04363824054598808\n"
     ]
    },
    {
     "name": "stderr",
     "output_type": "stream",
     "text": [
      "[I 2025-06-03 18:53:58,334] Trial 1 finished with value: 0.18168681859970093 and parameters: {'layers': 2, 'units': 37, 'dropout': 0.23802507836915165, 'learning_rate': 0.09959919905218795}. Best is trial 0 with value: 0.04363824054598808.\n"
     ]
    },
    {
     "name": "stdout",
     "output_type": "stream",
     "text": [
      "val_loss=0.08494734764099121, val_mse=0.18168681859970093\n",
      "best_params[0002]={'layers': 1, 'units': 40, 'dropout': 0.05361584483320092, 'learning_rate': 0.01841361563364898} # best_value=0.04363824054598808\n"
     ]
    },
    {
     "name": "stderr",
     "output_type": "stream",
     "text": [
      "[I 2025-06-03 18:55:32,305] Trial 2 finished with value: 2.316866874694824 and parameters: {'layers': 5, 'units': 73, 'dropout': 0.4727125650511506, 'learning_rate': 0.08662394737356426}. Best is trial 0 with value: 0.04363824054598808.\n"
     ]
    },
    {
     "name": "stdout",
     "output_type": "stream",
     "text": [
      "val_loss=0.7964575290679932, val_mse=2.316866874694824\n",
      "best_params[0003]={'layers': 1, 'units': 40, 'dropout': 0.05361584483320092, 'learning_rate': 0.01841361563364898} # best_value=0.04363824054598808\n"
     ]
    },
    {
     "name": "stderr",
     "output_type": "stream",
     "text": [
      "[I 2025-06-03 18:55:40,461] Trial 3 pruned. \n"
     ]
    },
    {
     "name": "stdout",
     "output_type": "stream",
     "text": [
      "pruned: epoch=1, loss=0.45305338501930237, val_loss=0.1715436577796936\n",
      "TrialPruned: \n",
      "best_params[0004]={'layers': 1, 'units': 40, 'dropout': 0.05361584483320092, 'learning_rate': 0.01841361563364898} # best_value=0.04363824054598808\n"
     ]
    },
    {
     "name": "stderr",
     "output_type": "stream",
     "text": [
      "[I 2025-06-03 18:56:41,881] Trial 4 finished with value: 0.10641346126794815 and parameters: {'layers': 2, 'units': 38, 'dropout': 0.4864855660495925, 'learning_rate': 0.026575326094975683}. Best is trial 0 with value: 0.04363824054598808.\n"
     ]
    },
    {
     "name": "stdout",
     "output_type": "stream",
     "text": [
      "val_loss=0.051418859511613846, val_mse=0.10641346126794815\n",
      "best_params[0005]={'layers': 1, 'units': 40, 'dropout': 0.05361584483320092, 'learning_rate': 0.01841361563364898} # best_value=0.04363824054598808\n"
     ]
    }
   ],
   "source": [
    "# ハイパーパラメータ最適化\n",
    "if not best_params:\n",
    "    sampler = optuna.samplers.TPESampler(seed=SEED)\n",
    "    pruner = optuna.pruners.HyperbandPruner(min_resource=1, max_resource=EPOCHS, reduction_factor=3)\n",
    "    study = optuna.create_study(sampler=sampler, pruner=pruner)\n",
    "\n",
    "    for i in range(N_LOOPS):\n",
    "        study.optimize(objective, n_trials=N_TRIALS)\n",
    "\n",
    "        sum_trials = N_TRIALS*(i+1)\n",
    "\n",
    "        # ハイパーパラメータ最適化の結果\n",
    "        print(f'best_params[{sum_trials:04d}]={study.best_params} # best_value={study.best_value}')\n",
    "\n",
    "        # 結果保存\n",
    "        with open(f'{SAVE_NAME}{sum_trials:04d}.pkl', 'wb') as f:\n",
    "            pickle.dump(study, f)\n",
    "\n",
    "        # 古いシンボリックリンクがあれば削除\n",
    "        if os.path.islink('study.pkl'):\n",
    "            os.remove('study.pkl')\n",
    "\n",
    "        try:\n",
    "            # 最新の結果をstudy.pklとしてシンボリックリンクを作っておく\n",
    "            os.symlink(f'{SAVE_NAME}{sum_trials:04d}.pkl', 'study.pkl')\n",
    "        except Exception as e:\n",
    "            # シンボリックリンクがだめならコピーする\n",
    "            shutil.copy2(f'{SAVE_NAME}{sum_trials:04d}.pkl', 'study.pkl')\n",
    "\n",
    "    best_params = study.best_params"
   ]
  },
  {
   "cell_type": "code",
   "execution_count": 101,
   "id": "843dcbb1",
   "metadata": {},
   "outputs": [
    {
     "name": "stdout",
     "output_type": "stream",
     "text": [
      "elapsed time: 275.79645586013794[sec]\n"
     ]
    }
   ],
   "source": [
    "# 所要時間表示\n",
    "elapsed_time = time.time() - start_time\n",
    "print(f'elapsed time: {elapsed_time}[sec]')"
   ]
  },
  {
   "cell_type": "code",
   "execution_count": 102,
   "id": "15",
   "metadata": {},
   "outputs": [
    {
     "name": "stdout",
     "output_type": "stream",
     "text": [
      "best_params={'layers': 1, 'units': 40, 'dropout': 0.05361584483320092, 'learning_rate': 0.01841361563364898}\n"
     ]
    }
   ],
   "source": [
    "# 最適化済みのパラメータセットを表示\n",
    "print(f'{best_params=}')"
   ]
  },
  {
   "cell_type": "code",
   "execution_count": 103,
   "id": "16",
   "metadata": {},
   "outputs": [],
   "source": [
    "# ハイパーパラメータ設定\n",
    "layers = best_params['layers']\n",
    "stateful = True\n",
    "units = best_params['units']\n",
    "dropout = best_params['dropout']\n",
    "learning_rate = best_params['learning_rate']"
   ]
  },
  {
   "cell_type": "code",
   "execution_count": 104,
   "id": "17",
   "metadata": {},
   "outputs": [],
   "source": [
    "# 最適化したハイパーパラメータでモデルを構築\n",
    "model = make_model(layers, stateful, units, dropout)"
   ]
  },
  {
   "cell_type": "code",
   "execution_count": 105,
   "id": "18",
   "metadata": {},
   "outputs": [],
   "source": [
    "# 学習ループ構築\n",
    "model.compile(optimizer=keras.optimizers.AdamW(learning_rate=learning_rate, clipnorm=0.001), loss=keras.losses.LogCosh(), metrics=['mse'])"
   ]
  },
  {
   "cell_type": "code",
   "execution_count": 106,
   "id": "19",
   "metadata": {},
   "outputs": [
    {
     "data": {
      "text/html": [
       "<pre style=\"white-space:pre;overflow-x:auto;line-height:normal;font-family:Menlo,'DejaVu Sans Mono',consolas,'Courier New',monospace\"><span style=\"font-weight: bold\">Model: \"functional\"</span>\n",
       "</pre>\n"
      ],
      "text/plain": [
       "\u001b[1mModel: \"functional\"\u001b[0m\n"
      ]
     },
     "metadata": {},
     "output_type": "display_data"
    },
    {
     "data": {
      "text/html": [
       "<pre style=\"white-space:pre;overflow-x:auto;line-height:normal;font-family:Menlo,'DejaVu Sans Mono',consolas,'Courier New',monospace\">┏━━━━━━━━━━━━━━━━━━━━━━━━━━━━━━━━━┳━━━━━━━━━━━━━━━━━━━━━━━━┳━━━━━━━━━━━━━━━┓\n",
       "┃<span style=\"font-weight: bold\"> Layer (type)                    </span>┃<span style=\"font-weight: bold\"> Output Shape           </span>┃<span style=\"font-weight: bold\">       Param # </span>┃\n",
       "┡━━━━━━━━━━━━━━━━━━━━━━━━━━━━━━━━━╇━━━━━━━━━━━━━━━━━━━━━━━━╇━━━━━━━━━━━━━━━┩\n",
       "│ input_layer (<span style=\"color: #0087ff; text-decoration-color: #0087ff\">InputLayer</span>)        │ (<span style=\"color: #00af00; text-decoration-color: #00af00\">12</span>, <span style=\"color: #00af00; text-decoration-color: #00af00\">12</span>, <span style=\"color: #00af00; text-decoration-color: #00af00\">1</span>)            │             <span style=\"color: #00af00; text-decoration-color: #00af00\">0</span> │\n",
       "├─────────────────────────────────┼────────────────────────┼───────────────┤\n",
       "│ lstm (<span style=\"color: #0087ff; text-decoration-color: #0087ff\">LSTM</span>)                     │ (<span style=\"color: #00af00; text-decoration-color: #00af00\">12</span>, <span style=\"color: #00af00; text-decoration-color: #00af00\">40</span>)               │         <span style=\"color: #00af00; text-decoration-color: #00af00\">6,720</span> │\n",
       "├─────────────────────────────────┼────────────────────────┼───────────────┤\n",
       "│ dropout (<span style=\"color: #0087ff; text-decoration-color: #0087ff\">Dropout</span>)               │ (<span style=\"color: #00af00; text-decoration-color: #00af00\">12</span>, <span style=\"color: #00af00; text-decoration-color: #00af00\">40</span>)               │             <span style=\"color: #00af00; text-decoration-color: #00af00\">0</span> │\n",
       "├─────────────────────────────────┼────────────────────────┼───────────────┤\n",
       "│ dense (<span style=\"color: #0087ff; text-decoration-color: #0087ff\">Dense</span>)                   │ (<span style=\"color: #00af00; text-decoration-color: #00af00\">12</span>, <span style=\"color: #00af00; text-decoration-color: #00af00\">1</span>)                │            <span style=\"color: #00af00; text-decoration-color: #00af00\">41</span> │\n",
       "├─────────────────────────────────┼────────────────────────┼───────────────┤\n",
       "│ reshape (<span style=\"color: #0087ff; text-decoration-color: #0087ff\">Reshape</span>)               │ (<span style=\"color: #00af00; text-decoration-color: #00af00\">12</span>, <span style=\"color: #00af00; text-decoration-color: #00af00\">1</span>, <span style=\"color: #00af00; text-decoration-color: #00af00\">1</span>)             │             <span style=\"color: #00af00; text-decoration-color: #00af00\">0</span> │\n",
       "└─────────────────────────────────┴────────────────────────┴───────────────┘\n",
       "</pre>\n"
      ],
      "text/plain": [
       "┏━━━━━━━━━━━━━━━━━━━━━━━━━━━━━━━━━┳━━━━━━━━━━━━━━━━━━━━━━━━┳━━━━━━━━━━━━━━━┓\n",
       "┃\u001b[1m \u001b[0m\u001b[1mLayer (type)                   \u001b[0m\u001b[1m \u001b[0m┃\u001b[1m \u001b[0m\u001b[1mOutput Shape          \u001b[0m\u001b[1m \u001b[0m┃\u001b[1m \u001b[0m\u001b[1m      Param #\u001b[0m\u001b[1m \u001b[0m┃\n",
       "┡━━━━━━━━━━━━━━━━━━━━━━━━━━━━━━━━━╇━━━━━━━━━━━━━━━━━━━━━━━━╇━━━━━━━━━━━━━━━┩\n",
       "│ input_layer (\u001b[38;5;33mInputLayer\u001b[0m)        │ (\u001b[38;5;34m12\u001b[0m, \u001b[38;5;34m12\u001b[0m, \u001b[38;5;34m1\u001b[0m)            │             \u001b[38;5;34m0\u001b[0m │\n",
       "├─────────────────────────────────┼────────────────────────┼───────────────┤\n",
       "│ lstm (\u001b[38;5;33mLSTM\u001b[0m)                     │ (\u001b[38;5;34m12\u001b[0m, \u001b[38;5;34m40\u001b[0m)               │         \u001b[38;5;34m6,720\u001b[0m │\n",
       "├─────────────────────────────────┼────────────────────────┼───────────────┤\n",
       "│ dropout (\u001b[38;5;33mDropout\u001b[0m)               │ (\u001b[38;5;34m12\u001b[0m, \u001b[38;5;34m40\u001b[0m)               │             \u001b[38;5;34m0\u001b[0m │\n",
       "├─────────────────────────────────┼────────────────────────┼───────────────┤\n",
       "│ dense (\u001b[38;5;33mDense\u001b[0m)                   │ (\u001b[38;5;34m12\u001b[0m, \u001b[38;5;34m1\u001b[0m)                │            \u001b[38;5;34m41\u001b[0m │\n",
       "├─────────────────────────────────┼────────────────────────┼───────────────┤\n",
       "│ reshape (\u001b[38;5;33mReshape\u001b[0m)               │ (\u001b[38;5;34m12\u001b[0m, \u001b[38;5;34m1\u001b[0m, \u001b[38;5;34m1\u001b[0m)             │             \u001b[38;5;34m0\u001b[0m │\n",
       "└─────────────────────────────────┴────────────────────────┴───────────────┘\n"
      ]
     },
     "metadata": {},
     "output_type": "display_data"
    },
    {
     "data": {
      "text/html": [
       "<pre style=\"white-space:pre;overflow-x:auto;line-height:normal;font-family:Menlo,'DejaVu Sans Mono',consolas,'Courier New',monospace\"><span style=\"font-weight: bold\"> Total params: </span><span style=\"color: #00af00; text-decoration-color: #00af00\">6,761</span> (26.41 KB)\n",
       "</pre>\n"
      ],
      "text/plain": [
       "\u001b[1m Total params: \u001b[0m\u001b[38;5;34m6,761\u001b[0m (26.41 KB)\n"
      ]
     },
     "metadata": {},
     "output_type": "display_data"
    },
    {
     "data": {
      "text/html": [
       "<pre style=\"white-space:pre;overflow-x:auto;line-height:normal;font-family:Menlo,'DejaVu Sans Mono',consolas,'Courier New',monospace\"><span style=\"font-weight: bold\"> Trainable params: </span><span style=\"color: #00af00; text-decoration-color: #00af00\">6,761</span> (26.41 KB)\n",
       "</pre>\n"
      ],
      "text/plain": [
       "\u001b[1m Trainable params: \u001b[0m\u001b[38;5;34m6,761\u001b[0m (26.41 KB)\n"
      ]
     },
     "metadata": {},
     "output_type": "display_data"
    },
    {
     "data": {
      "text/html": [
       "<pre style=\"white-space:pre;overflow-x:auto;line-height:normal;font-family:Menlo,'DejaVu Sans Mono',consolas,'Courier New',monospace\"><span style=\"font-weight: bold\"> Non-trainable params: </span><span style=\"color: #00af00; text-decoration-color: #00af00\">0</span> (0.00 B)\n",
       "</pre>\n"
      ],
      "text/plain": [
       "\u001b[1m Non-trainable params: \u001b[0m\u001b[38;5;34m0\u001b[0m (0.00 B)\n"
      ]
     },
     "metadata": {},
     "output_type": "display_data"
    }
   ],
   "source": [
    "# モデルの表示\n",
    "keras.utils.plot_model(model, to_file='model.png')\n",
    "model.summary()"
   ]
  },
  {
   "cell_type": "code",
   "execution_count": 107,
   "id": "20",
   "metadata": {},
   "outputs": [
    {
     "data": {
      "text/plain": [
       "<keras.src.callbacks.history.History at 0x1a853753f50>"
      ]
     },
     "execution_count": 107,
     "metadata": {},
     "output_type": "execute_result"
    }
   ],
   "source": [
    "# コールバック(pruneなし)\n",
    "callback = keras.callbacks.LambdaCallback(on_epoch_end=on_epoch_end)\n",
    "\n",
    "# 全データで学習(validation_split=0)\n",
    "model.fit(np.concatenate((x_train, x_val)), np.concatenate((y_train, y_val)), batch_size=BATCH_SIZE, epochs=EPOCHS, validation_split=0, shuffle=False, verbose=0, callbacks=[callback])"
   ]
  },
  {
   "cell_type": "code",
   "execution_count": 108,
   "id": "21",
   "metadata": {},
   "outputs": [
    {
     "name": "stdout",
     "output_type": "stream",
     "text": [
      "\u001b[1m9/9\u001b[0m \u001b[32m━━━━━━━━━━━━━━━━━━━━\u001b[0m\u001b[37m\u001b[0m \u001b[1m0s\u001b[0m 6ms/step  \n",
      "\u001b[1m1/1\u001b[0m \u001b[32m━━━━━━━━━━━━━━━━━━━━\u001b[0m\u001b[37m\u001b[0m \u001b[1m0s\u001b[0m 42ms/step\n",
      "p_train.shape=(108, 1, 1), p_test.shape=(12, 1, 1)\n"
     ]
    }
   ],
   "source": [
    "# 予測\n",
    "# epoch終了時にstateはリセットされているのでここでのリセットは不要\n",
    "p_train = model.predict(np.concatenate((x_train, x_val)), batch_size=BATCH_SIZE)\n",
    "p_test = model.predict(x_test, batch_size=BATCH_SIZE)\n",
    "print(f'{p_train.shape=}, {p_test.shape=}')"
   ]
  },
  {
   "cell_type": "code",
   "execution_count": 109,
   "id": "22",
   "metadata": {},
   "outputs": [
    {
     "name": "stdout",
     "output_type": "stream",
     "text": [
      "loss=0.01224020103558602, test_loss=0.03389306003079121\n"
     ]
    }
   ],
   "source": [
    "# 精度を計算\n",
    "loss = mean_squared_error(np.concatenate((y_train, y_val)).flatten(), p_train.flatten())\n",
    "test_loss = mean_squared_error(y_test.flatten(), p_test.flatten())\n",
    "print(f'{loss=}, {test_loss=}')"
   ]
  },
  {
   "cell_type": "code",
   "execution_count": 110,
   "id": "23",
   "metadata": {},
   "outputs": [],
   "source": [
    "# 横軸\n",
    "time = range(len(df))"
   ]
  },
  {
   "cell_type": "code",
   "execution_count": 111,
   "id": "24",
   "metadata": {},
   "outputs": [],
   "source": [
    "# 1次元にし、標準化を元に戻す\n",
    "p_train = p_train[:,-1,:].flatten() * std + mean\n",
    "p_test = p_test[:,-1,:].flatten() * std + mean"
   ]
  },
  {
   "cell_type": "code",
   "execution_count": 112,
   "id": "25",
   "metadata": {
    "tags": []
   },
   "outputs": [
    {
     "data": {
      "image/png": "[encoded data removed]",
      "text/plain": [
       "<Figure size 1200x800 with 1 Axes>"
      ]
     },
     "metadata": {},
     "output_type": "display_data"
    }
   ],
   "source": [
    "# グラフの描画およびファイル保存\n",
    "fig = plt.figure(figsize=(12, 8))\n",
    "plt.subplot(111)\n",
    "plt.plot(time, df_p, color='k', label='truth', alpha=0.5)\n",
    "plt.plot(time[-len(p_train)-len(p_test):-len(p_test)], p_train, color='g', label='predicted(train)', alpha=0.5)\n",
    "plt.plot(time[-len(p_test):], p_test, color='r', label='predicted(test)', alpha=0.5)\n",
    "plt.xlabel('time')\n",
    "plt.ylabel('passengers')\n",
    "plt.title(f'MSE(train): {loss}, MSE(test): {test_loss}')\n",
    "#plt.legend(bbox_to_anchor=(0, 0), loc='upper left', borderaxespad=0)\n",
    "plt.legend()\n",
    "plt.subplots_adjust(hspace=0.5)\n",
    "plt.savefig('plot.png') # ファイル出力\n",
    "plt.show() # コマンドラインからの実行の場合に描画する(jupyterの場合は既に描画済みなので何も出ません)"
   ]
  }
 ],
 "metadata": {
  "kernelspec": {
   "display_name": "3.12",
   "language": "python",
   "name": "python3"
  },
  "language_info": {
   "codemirror_mode": {
    "name": "ipython",
    "version": 3
   },
   "file_extension": ".py",
   "mimetype": "text/x-python",
   "name": "python",
   "nbconvert_exporter": "python",
   "pygments_lexer": "ipython3",
   "version": "3.12.10"
  }
 },
 "nbformat": 4,
 "nbformat_minor": 5
}
