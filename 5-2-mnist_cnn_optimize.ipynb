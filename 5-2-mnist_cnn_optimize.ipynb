{
 "cells": [
  {
   "cell_type": "code",
   "execution_count": 1,
   "id": "0",
   "metadata": {},
   "outputs": [
    {
     "data": {
      "text/plain": [
       "'Trains a simple convnet on the MNIST dataset.\\n\\nGets to 99.25% test accuracy after 12 epochs\\n(there is still a lot of margin for parameter tuning).\\n16 seconds per epoch on a GRID K520 GPU.\\n'"
      ]
     },
     "execution_count": 1,
     "metadata": {},
     "output_type": "execute_result"
    }
   ],
   "source": [
    "'''Trains a simple convnet on the MNIST dataset.\n",
    "\n",
    "Gets to 99.25% test accuracy after 12 epochs\n",
    "(there is still a lot of margin for parameter tuning).\n",
    "16 seconds per epoch on a GRID K520 GPU.\n",
    "'''"
   ]
  },
  {
   "cell_type": "code",
   "execution_count": 2,
   "id": "1",
   "metadata": {},
   "outputs": [
    {
     "name": "stdout",
     "output_type": "stream",
     "text": [
      "tensorflow\n"
     ]
    }
   ],
   "source": [
    "import os\n",
    "os.environ[\"KERAS_BACKEND\"] = \"tensorflow\"\n",
    "import keras\n",
    "print(keras.backend.backend())"
   ]
  },
  {
   "cell_type": "code",
   "execution_count": 3,
   "id": "2",
   "metadata": {},
   "outputs": [],
   "source": [
    "import gc\n",
    "import optuna\n",
    "import pickle\n",
    "import time\n",
    "import shutil"
   ]
  },
  {
   "cell_type": "code",
   "execution_count": 4,
   "id": "3",
   "metadata": {},
   "outputs": [],
   "source": [
    "# 乱数固定\n",
    "SEED = 20241001\n",
    "keras.utils.set_random_seed(SEED)\n",
    "import os\n",
    "os.environ['PYTHONHASHSEED'] = str(SEED)\n",
    "import numpy as np\n",
    "np.random.seed(SEED)\n",
    "import random\n",
    "random.seed(SEED)\n",
    "import tensorflow as tf\n",
    "tf.random.set_seed(SEED)"
   ]
  },
  {
   "cell_type": "code",
   "execution_count": 5,
   "id": "4",
   "metadata": {},
   "outputs": [],
   "source": [
    "# 定数\n",
    "BATCH_SIZE = 128\n",
    "NUM_CLASSES = 10\n",
    "EPOCHS = 15\n",
    "IMG_ROWS, IMG_COLS = 28, 28\n",
    "INPUT_SHAPE = (IMG_ROWS, IMG_COLS, 1)\n",
    "N_TRIALS = 5\n",
    "N_LOOPS = 20\n",
    "SAVE_NAME = 'study_cnn'"
   ]
  },
  {
   "cell_type": "code",
   "execution_count": 6,
   "id": "5",
   "metadata": {},
   "outputs": [],
   "source": [
    "# データ生成関数\n",
    "def make_data():\n",
    "    # input image dimensions\n",
    "\n",
    "    # the data, split between train and test sets\n",
    "    (x_train, y_train), (x_test, y_test) = keras.datasets.mnist.load_data()\n",
    "\n",
    "    x_train = x_train.reshape(x_train.shape[0], IMG_ROWS, IMG_COLS, 1)\n",
    "    x_test = x_test.reshape(x_test.shape[0], IMG_ROWS, IMG_COLS, 1)\n",
    "\n",
    "    x_train = x_train.astype('float32')\n",
    "    x_test = x_test.astype('float32')\n",
    "    x_train /= 255\n",
    "    x_test /= 255\n",
    "    print(f'x_train shape: {x_train.shape}')\n",
    "    print(f'{x_train.shape[0]} train samples')\n",
    "    print(f'{x_test.shape[0]} test samples')\n",
    "\n",
    "    # convert class vectors to binary class matrices\n",
    "    y_train = keras.utils.to_categorical(y_train, NUM_CLASSES)\n",
    "    y_test = keras.utils.to_categorical(y_test, NUM_CLASSES)\n",
    "\n",
    "    n_train = int(len(x_train)*0.8)\n",
    "\n",
    "    x_val = x_train[n_train:]\n",
    "    x_train = x_train[:n_train]\n",
    "\n",
    "    y_val = y_train[n_train:]\n",
    "    y_train = y_train[:n_train]\n",
    "\n",
    "    return (x_train, y_train), (x_val, y_val), (x_test, y_test)"
   ]
  },
  {
   "cell_type": "code",
   "execution_count": 7,
   "id": "6",
   "metadata": {},
   "outputs": [],
   "source": [
    "# モデル構築関数\n",
    "def make_model(n_filter1, n_filter2, dropout):\n",
    "    inputs = keras.layers.Input(shape=INPUT_SHAPE)\n",
    "    x = inputs\n",
    "    x = keras.layers.Conv2D(n_filter1, kernel_size=(3, 3), activation=\"relu\")(x)\n",
    "    x = keras.layers.MaxPooling2D(pool_size=(2, 2))(x)\n",
    "    x = keras.layers.Conv2D(n_filter2, kernel_size=(3, 3), activation=\"relu\")(x)\n",
    "    x = keras.layers.MaxPooling2D(pool_size=(2, 2))(x)\n",
    "    x = keras.layers.Flatten()(x)\n",
    "    x = keras.layers.Dropout(dropout)(x)\n",
    "    outputs = keras.layers.Dense(NUM_CLASSES, activation=\"softmax\")(x)\n",
    "    \n",
    "    model = keras.models.Model(inputs=inputs, outputs=outputs)\n",
    "\n",
    "    return model"
   ]
  },
  {
   "cell_type": "code",
   "execution_count": 8,
   "id": "7",
   "metadata": {},
   "outputs": [],
   "source": [
    "# 目的関数\n",
    "def objective(trial):\n",
    "    \n",
    "    # エポック終了時に実行(pruneあり)\n",
    "    def on_epoch_end_prune(epoch, logs={}):\n",
    "        trial.report(logs.get('loss'), epoch)\n",
    "        if trial.should_prune():\n",
    "            print(f'pruned: epoch={epoch}, loss={logs.get(\"loss\")}, val_loss={logs.get(\"val_loss\")}')\n",
    "            raise optuna.TrialPruned()\n",
    "\n",
    "    # kerasのセッションをクリア\n",
    "    keras.backend.clear_session()\n",
    "\n",
    "    # ハイパーパラメータ生成\n",
    "    n_filter1 = trial.suggest_int('n_filter1', 16, 128)\n",
    "    n_filter2 = trial.suggest_int('n_filter2', 32, 256)\n",
    "    dropout = trial.suggest_float('dropout', 0, 0.5)\n",
    "    learning_rate = trial.suggest_float('learning_rate', 0.0001, 0.1)\n",
    "\n",
    "    # モデル構築\n",
    "    model = make_model(\n",
    "        n_filter1=n_filter1,\n",
    "        n_filter2=n_filter2,\n",
    "        dropout=dropout,\n",
    "    )\n",
    "\n",
    "    # 学習ループ構築\n",
    "    model.compile(loss=\"categorical_crossentropy\", optimizer=keras.optimizers.AdamW(learning_rate=learning_rate, clipnorm=0.001), metrics=[\"accuracy\"])\n",
    " \n",
    "    # 打ち切り判断用のコールバック\n",
    "    callback = keras.callbacks.LambdaCallback(on_epoch_end=on_epoch_end_prune)\n",
    "\n",
    "    # 学習\n",
    "    try:\n",
    "        model.fit(x_train, y_train, batch_size=BATCH_SIZE, epochs=EPOCHS, validation_data=(x_val, y_val), verbose=0, callbacks=[callback])\n",
    "    except optuna.TrialPruned as e:\n",
    "        print(f'TrialPruned: {e}')\n",
    "        raise optuna.TrialPruned()\n",
    "    except KeyboardInterrupt:\n",
    "        print('keyboard interrupted')\n",
    "        val_loss, val_accuracy = float('nan'), float('nan')\n",
    "    except Exception as e:\n",
    "        print(f'Error: {e}')\n",
    "        val_loss, val_accuracy = float('nan'), float('nan')\n",
    "    else:\n",
    "        val_loss, val_accuracy = model.evaluate(x_val, y_val, verbose=0)\n",
    "    finally:\n",
    "        # 掃除\n",
    "        del model\n",
    "        keras.backend.clear_session()\n",
    "        gc.collect\n",
    "\n",
    "    print(f'{val_loss=}, {val_accuracy=}')\n",
    "\n",
    "    # 結果を返す(val_accuracy最大化を目指す)\n",
    "    return val_accuracy"
   ]
  },
  {
   "cell_type": "code",
   "execution_count": 9,
   "id": "8",
   "metadata": {},
   "outputs": [
    {
     "name": "stdout",
     "output_type": "stream",
     "text": [
      "x_train shape: (60000, 28, 28, 1)\n",
      "60000 train samples\n",
      "10000 test samples\n"
     ]
    }
   ],
   "source": [
    "# データ生成\n",
    "(x_train, y_train), (x_val, y_val), (x_test, y_test) = make_data()"
   ]
  },
  {
   "cell_type": "code",
   "execution_count": 10,
   "id": "9",
   "metadata": {},
   "outputs": [
    {
     "name": "stderr",
     "output_type": "stream",
     "text": [
      "[I 2025-05-22 23:17:10,422] A new study created in memory with name: no-name-f8a49310-a9ef-47b4-856d-22ac062f9c9e\n"
     ]
    }
   ],
   "source": [
    "# 最適化の準備\n",
    "sampler = optuna.samplers.TPESampler(seed=SEED)\n",
    "pruner = optuna.pruners.HyperbandPruner(min_resource=1, max_resource=EPOCHS, reduction_factor=3)\n",
    "study = optuna.create_study(sampler=sampler, pruner=pruner, direction='maximize')"
   ]
  },
  {
   "cell_type": "code",
   "execution_count": 11,
   "id": "10",
   "metadata": {},
   "outputs": [],
   "source": [
    "# 開始時刻記録\n",
    "start_time = time.time()"
   ]
  },
  {
   "cell_type": "code",
   "execution_count": 12,
   "id": "11",
   "metadata": {},
   "outputs": [
    {
     "name": "stdout",
     "output_type": "stream",
     "text": [
      "WARNING:tensorflow:From c:\\Users\\T123011\\jupyter_examples\\3.12\\Lib\\site-packages\\keras\\src\\backend\\common\\global_state.py:82: The name tf.reset_default_graph is deprecated. Please use tf.compat.v1.reset_default_graph instead.\n",
      "\n"
     ]
    },
    {
     "name": "stderr",
     "output_type": "stream",
     "text": [
      "[I 2025-05-22 23:19:11,566] Trial 0 finished with value: 0.9869166612625122 and parameters: {'n_filter1': 24, 'n_filter2': 100, 'dropout': 0.05361584483320092, 'learning_rate': 0.018494386961884945}. Best is trial 0 with value: 0.9869166612625122.\n"
     ]
    },
    {
     "name": "stdout",
     "output_type": "stream",
     "text": [
      "val_loss=0.16511759161949158, val_accuracy=0.9869166612625122\n"
     ]
    },
    {
     "name": "stderr",
     "output_type": "stream",
     "text": [
      "[I 2025-05-22 23:21:58,997] Trial 1 finished with value: 0.9007499814033508 and parameters: {'n_filter1': 39, 'n_filter2': 96, 'dropout': 0.23802507836915165, 'learning_rate': 0.09959959584909425}. Best is trial 0 with value: 0.9869166612625122.\n"
     ]
    },
    {
     "name": "stdout",
     "output_type": "stream",
     "text": [
      "val_loss=0.31111904978752136, val_accuracy=0.9007499814033508\n"
     ]
    },
    {
     "name": "stderr",
     "output_type": "stream",
     "text": [
      "[I 2025-05-22 23:35:14,567] Trial 2 finished with value: 0.921916663646698 and parameters: {'n_filter1': 100, 'n_filter2': 158, 'dropout': 0.4727125650511506, 'learning_rate': 0.08663718979808867}. Best is trial 0 with value: 0.9869166612625122.\n"
     ]
    },
    {
     "name": "stdout",
     "output_type": "stream",
     "text": [
      "val_loss=0.26868197321891785, val_accuracy=0.921916663646698\n",
      "pruned: epoch=3, loss=0.24747757613658905, val_loss=0.15251503884792328\n",
      "TrialPruned: \n"
     ]
    },
    {
     "name": "stderr",
     "output_type": "stream",
     "text": [
      "[I 2025-05-22 23:40:50,234] Trial 3 pruned. \n"
     ]
    },
    {
     "name": "stdout",
     "output_type": "stream",
     "text": [
      "pruned: epoch=3, loss=0.16149170696735382, val_loss=0.0922478511929512\n",
      "TrialPruned: \n"
     ]
    },
    {
     "name": "stderr",
     "output_type": "stream",
     "text": [
      "[I 2025-05-22 23:42:19,080] Trial 4 pruned. \n"
     ]
    },
    {
     "name": "stdout",
     "output_type": "stream",
     "text": [
      "best_params={'n_filter1': 24, 'n_filter2': 100, 'dropout': 0.05361584483320092, 'learning_rate': 0.018494386961884945} # trials=5, best_value=0.9869166612625122\n"
     ]
    },
    {
     "name": "stderr",
     "output_type": "stream",
     "text": [
      "[I 2025-05-22 23:47:40,003] Trial 5 finished with value: 0.9434999823570251 and parameters: {'n_filter1': 16, 'n_filter2': 255, 'dropout': 0.23563807189493674, 'learning_rate': 0.09923625790867438}. Best is trial 0 with value: 0.9869166612625122.\n"
     ]
    },
    {
     "name": "stdout",
     "output_type": "stream",
     "text": [
      "val_loss=0.1894291788339615, val_accuracy=0.9434999823570251\n",
      "pruned: epoch=1, loss=0.2983730137348175, val_loss=0.12415885180234909\n",
      "TrialPruned: \n"
     ]
    },
    {
     "name": "stderr",
     "output_type": "stream",
     "text": [
      "[I 2025-05-22 23:49:53,253] Trial 6 pruned. \n"
     ]
    },
    {
     "name": "stdout",
     "output_type": "stream",
     "text": [
      "pruned: epoch=1, loss=0.3368363380432129, val_loss=0.19787557423114777\n",
      "TrialPruned: \n"
     ]
    },
    {
     "name": "stderr",
     "output_type": "stream",
     "text": [
      "[I 2025-05-22 23:50:31,032] Trial 7 pruned. \n",
      "[I 2025-05-22 23:52:46,277] Trial 8 pruned. \n"
     ]
    },
    {
     "name": "stdout",
     "output_type": "stream",
     "text": [
      "pruned: epoch=3, loss=0.17439129948616028, val_loss=0.1914690136909485\n",
      "TrialPruned: \n",
      "pruned: epoch=3, loss=0.03943975269794464, val_loss=0.0911203920841217\n",
      "TrialPruned: \n"
     ]
    },
    {
     "name": "stderr",
     "output_type": "stream",
     "text": [
      "[I 2025-05-22 23:55:38,463] Trial 9 pruned. \n"
     ]
    },
    {
     "name": "stdout",
     "output_type": "stream",
     "text": [
      "best_params={'n_filter1': 24, 'n_filter2': 100, 'dropout': 0.05361584483320092, 'learning_rate': 0.018494386961884945} # trials=10, best_value=0.9869166612625122\n",
      "pruned: epoch=1, loss=0.07226630300283432, val_loss=0.056388773024082184\n",
      "TrialPruned: \n"
     ]
    },
    {
     "name": "stderr",
     "output_type": "stream",
     "text": [
      "[I 2025-05-22 23:55:57,686] Trial 10 pruned. \n",
      "[I 2025-05-22 23:56:34,064] Trial 11 pruned. \n"
     ]
    },
    {
     "name": "stdout",
     "output_type": "stream",
     "text": [
      "pruned: epoch=1, loss=0.12689825892448425, val_loss=0.1041342094540596\n",
      "TrialPruned: \n"
     ]
    },
    {
     "name": "stderr",
     "output_type": "stream",
     "text": [
      "[I 2025-05-22 23:56:54,290] Trial 12 pruned. \n"
     ]
    },
    {
     "name": "stdout",
     "output_type": "stream",
     "text": [
      "pruned: epoch=1, loss=0.19454704225063324, val_loss=0.09331327676773071\n",
      "TrialPruned: \n",
      "pruned: epoch=3, loss=0.02865259349346161, val_loss=0.05160338804125786\n",
      "TrialPruned: \n"
     ]
    },
    {
     "name": "stderr",
     "output_type": "stream",
     "text": [
      "[I 2025-05-23 00:00:36,784] Trial 13 pruned. \n",
      "[I 2025-05-23 00:10:59,077] Trial 14 finished with value: 0.8322499990463257 and parameters: {'n_filter1': 87, 'n_filter2': 120, 'dropout': 0.33229685119359237, 'learning_rate': 0.09895212951555259}. Best is trial 0 with value: 0.9869166612625122.\n"
     ]
    },
    {
     "name": "stdout",
     "output_type": "stream",
     "text": [
      "val_loss=0.5058261752128601, val_accuracy=0.8322499990463257\n",
      "best_params={'n_filter1': 24, 'n_filter2': 100, 'dropout': 0.05361584483320092, 'learning_rate': 0.018494386961884945} # trials=15, best_value=0.9869166612625122\n",
      "pruned: epoch=9, loss=0.284779816865921, val_loss=0.17602278292179108\n",
      "TrialPruned: \n"
     ]
    },
    {
     "name": "stderr",
     "output_type": "stream",
     "text": [
      "[I 2025-05-23 00:12:56,110] Trial 15 pruned. \n",
      "[I 2025-05-23 00:17:52,437] Trial 16 pruned. \n"
     ]
    },
    {
     "name": "stdout",
     "output_type": "stream",
     "text": [
      "pruned: epoch=9, loss=0.0834418311715126, val_loss=0.06559755653142929\n",
      "TrialPruned: \n",
      "pruned: epoch=1, loss=0.1550990343093872, val_loss=0.16898943483829498\n",
      "TrialPruned: \n"
     ]
    },
    {
     "name": "stderr",
     "output_type": "stream",
     "text": [
      "[I 2025-05-23 00:18:08,265] Trial 17 pruned. \n",
      "[I 2025-05-23 00:26:44,612] Trial 18 finished with value: 0.1080833300948143 and parameters: {'n_filter1': 102, 'n_filter2': 180, 'dropout': 0.0023115310107007236, 'learning_rate': 0.08277436254499496}. Best is trial 0 with value: 0.9869166612625122.\n"
     ]
    },
    {
     "name": "stdout",
     "output_type": "stream",
     "text": [
      "val_loss=2.30757474899292, val_accuracy=0.1080833300948143\n",
      "pruned: epoch=9, loss=0.05766300484538078, val_loss=0.08175408095121384\n",
      "TrialPruned: \n"
     ]
    },
    {
     "name": "stderr",
     "output_type": "stream",
     "text": [
      "[I 2025-05-23 00:29:12,937] Trial 19 pruned. \n"
     ]
    },
    {
     "name": "stdout",
     "output_type": "stream",
     "text": [
      "best_params={'n_filter1': 24, 'n_filter2': 100, 'dropout': 0.05361584483320092, 'learning_rate': 0.018494386961884945} # trials=20, best_value=0.9869166612625122\n",
      "pruned: epoch=1, loss=0.16458667814731598, val_loss=0.08017145097255707\n",
      "TrialPruned: \n"
     ]
    },
    {
     "name": "stderr",
     "output_type": "stream",
     "text": [
      "[I 2025-05-23 00:29:46,364] Trial 20 pruned. \n"
     ]
    },
    {
     "name": "stdout",
     "output_type": "stream",
     "text": [
      "pruned: epoch=1, loss=0.434745728969574, val_loss=0.22984236478805542\n",
      "TrialPruned: \n"
     ]
    },
    {
     "name": "stderr",
     "output_type": "stream",
     "text": [
      "[I 2025-05-23 00:30:54,773] Trial 21 pruned. \n",
      "[I 2025-05-23 00:39:02,552] Trial 22 finished with value: 0.1080833300948143 and parameters: {'n_filter1': 108, 'n_filter2': 144, 'dropout': 0.4080224264929301, 'learning_rate': 0.09120434563315102}. Best is trial 0 with value: 0.9869166612625122.\n"
     ]
    },
    {
     "name": "stdout",
     "output_type": "stream",
     "text": [
      "val_loss=2.3079099655151367, val_accuracy=0.1080833300948143\n"
     ]
    },
    {
     "name": "stderr",
     "output_type": "stream",
     "text": [
      "[I 2025-05-23 00:39:38,042] Trial 23 pruned. \n"
     ]
    },
    {
     "name": "stdout",
     "output_type": "stream",
     "text": [
      "pruned: epoch=1, loss=0.3526238203048706, val_loss=0.20616911351680756\n",
      "TrialPruned: \n",
      "pruned: epoch=9, loss=0.3924012780189514, val_loss=0.1314569115638733\n",
      "TrialPruned: \n"
     ]
    },
    {
     "name": "stderr",
     "output_type": "stream",
     "text": [
      "[I 2025-05-23 00:46:06,698] Trial 24 pruned. \n"
     ]
    },
    {
     "name": "stdout",
     "output_type": "stream",
     "text": [
      "best_params={'n_filter1': 24, 'n_filter2': 100, 'dropout': 0.05361584483320092, 'learning_rate': 0.018494386961884945} # trials=25, best_value=0.9869166612625122\n"
     ]
    },
    {
     "name": "stderr",
     "output_type": "stream",
     "text": [
      "[I 2025-05-23 00:53:17,064] Trial 25 finished with value: 0.9461666941642761 and parameters: {'n_filter1': 65, 'n_filter2': 191, 'dropout': 0.10910936695434015, 'learning_rate': 0.09128233580890374}. Best is trial 0 with value: 0.9869166612625122.\n"
     ]
    },
    {
     "name": "stdout",
     "output_type": "stream",
     "text": [
      "val_loss=0.1955944448709488, val_accuracy=0.9461666941642761\n",
      "pruned: epoch=1, loss=0.3132714033126831, val_loss=0.18469010293483734\n",
      "TrialPruned: \n"
     ]
    },
    {
     "name": "stderr",
     "output_type": "stream",
     "text": [
      "[I 2025-05-23 00:54:22,742] Trial 26 pruned. \n"
     ]
    },
    {
     "name": "stdout",
     "output_type": "stream",
     "text": [
      "pruned: epoch=3, loss=2.305933952331543, val_loss=2.3072280883789062\n",
      "TrialPruned: \n"
     ]
    },
    {
     "name": "stderr",
     "output_type": "stream",
     "text": [
      "[I 2025-05-23 00:55:28,140] Trial 27 pruned. \n",
      "[I 2025-05-23 01:01:08,393] Trial 28 pruned. \n"
     ]
    },
    {
     "name": "stdout",
     "output_type": "stream",
     "text": [
      "pruned: epoch=9, loss=0.17454862594604492, val_loss=0.12355256825685501\n",
      "TrialPruned: \n"
     ]
    },
    {
     "name": "stderr",
     "output_type": "stream",
     "text": [
      "[I 2025-05-23 01:02:24,353] Trial 29 pruned. \n"
     ]
    },
    {
     "name": "stdout",
     "output_type": "stream",
     "text": [
      "pruned: epoch=3, loss=0.4926758110523224, val_loss=0.33252397179603577\n",
      "TrialPruned: \n",
      "best_params={'n_filter1': 24, 'n_filter2': 100, 'dropout': 0.05361584483320092, 'learning_rate': 0.018494386961884945} # trials=30, best_value=0.9869166612625122\n"
     ]
    },
    {
     "name": "stderr",
     "output_type": "stream",
     "text": [
      "[I 2025-05-23 01:03:05,268] Trial 30 pruned. \n"
     ]
    },
    {
     "name": "stdout",
     "output_type": "stream",
     "text": [
      "pruned: epoch=3, loss=0.14819498360157013, val_loss=0.10542561113834381\n",
      "TrialPruned: \n",
      "pruned: epoch=1, loss=0.3736533224582672, val_loss=0.1893308311700821\n",
      "TrialPruned: \n"
     ]
    },
    {
     "name": "stderr",
     "output_type": "stream",
     "text": [
      "[I 2025-05-23 01:04:26,522] Trial 31 pruned. \n"
     ]
    },
    {
     "name": "stdout",
     "output_type": "stream",
     "text": [
      "pruned: epoch=9, loss=0.3089243769645691, val_loss=0.1904475837945938\n",
      "TrialPruned: \n"
     ]
    },
    {
     "name": "stderr",
     "output_type": "stream",
     "text": [
      "[I 2025-05-23 01:09:55,567] Trial 32 pruned. \n"
     ]
    },
    {
     "name": "stdout",
     "output_type": "stream",
     "text": [
      "pruned: epoch=3, loss=0.4436911642551422, val_loss=0.2687340974807739\n",
      "TrialPruned: \n"
     ]
    },
    {
     "name": "stderr",
     "output_type": "stream",
     "text": [
      "[I 2025-05-23 01:11:45,395] Trial 33 pruned. \n"
     ]
    },
    {
     "name": "stdout",
     "output_type": "stream",
     "text": [
      "pruned: epoch=1, loss=0.390664279460907, val_loss=0.2817765772342682\n",
      "TrialPruned: \n"
     ]
    },
    {
     "name": "stderr",
     "output_type": "stream",
     "text": [
      "[I 2025-05-23 01:12:25,979] Trial 34 pruned. \n"
     ]
    },
    {
     "name": "stdout",
     "output_type": "stream",
     "text": [
      "best_params={'n_filter1': 24, 'n_filter2': 100, 'dropout': 0.05361584483320092, 'learning_rate': 0.018494386961884945} # trials=35, best_value=0.9869166612625122\n"
     ]
    },
    {
     "name": "stderr",
     "output_type": "stream",
     "text": [
      "[I 2025-05-23 01:16:10,045] Trial 35 finished with value: 0.9384166598320007 and parameters: {'n_filter1': 35, 'n_filter2': 155, 'dropout': 0.44018196950100236, 'learning_rate': 0.08312726712214386}. Best is trial 0 with value: 0.9869166612625122.\n"
     ]
    },
    {
     "name": "stdout",
     "output_type": "stream",
     "text": [
      "val_loss=0.20618292689323425, val_accuracy=0.9384166598320007\n",
      "pruned: epoch=9, loss=0.47858861088752747, val_loss=0.2516525685787201\n",
      "TrialPruned: \n"
     ]
    },
    {
     "name": "stderr",
     "output_type": "stream",
     "text": [
      "[I 2025-05-23 01:18:48,026] Trial 36 pruned. \n",
      "[I 2025-05-23 01:19:14,206] Trial 37 pruned. \n"
     ]
    },
    {
     "name": "stdout",
     "output_type": "stream",
     "text": [
      "pruned: epoch=1, loss=0.2773205637931824, val_loss=0.15741147100925446\n",
      "TrialPruned: \n",
      "pruned: epoch=3, loss=2.305742025375366, val_loss=2.3070085048675537\n",
      "TrialPruned: \n"
     ]
    },
    {
     "name": "stderr",
     "output_type": "stream",
     "text": [
      "[I 2025-05-23 01:20:10,995] Trial 38 pruned. \n",
      "[I 2025-05-23 01:21:38,616] Trial 39 pruned. \n"
     ]
    },
    {
     "name": "stdout",
     "output_type": "stream",
     "text": [
      "pruned: epoch=3, loss=0.27869123220443726, val_loss=0.16467732191085815\n",
      "TrialPruned: \n",
      "best_params={'n_filter1': 24, 'n_filter2': 100, 'dropout': 0.05361584483320092, 'learning_rate': 0.018494386961884945} # trials=40, best_value=0.9869166612625122\n"
     ]
    },
    {
     "name": "stderr",
     "output_type": "stream",
     "text": [
      "[I 2025-05-23 01:24:35,046] Trial 40 finished with value: 0.1080833300948143 and parameters: {'n_filter1': 21, 'n_filter2': 202, 'dropout': 0.44781513812251317, 'learning_rate': 0.09394644607919478}. Best is trial 0 with value: 0.9869166612625122.\n"
     ]
    },
    {
     "name": "stdout",
     "output_type": "stream",
     "text": [
      "val_loss=2.3922157287597656, val_accuracy=0.1080833300948143\n"
     ]
    },
    {
     "name": "stderr",
     "output_type": "stream",
     "text": [
      "[I 2025-05-23 01:25:54,247] Trial 41 pruned. \n"
     ]
    },
    {
     "name": "stdout",
     "output_type": "stream",
     "text": [
      "pruned: epoch=3, loss=0.5557652711868286, val_loss=0.2575911581516266\n",
      "TrialPruned: \n"
     ]
    },
    {
     "name": "stderr",
     "output_type": "stream",
     "text": [
      "[I 2025-05-23 01:28:28,592] Trial 42 finished with value: 0.9239166378974915 and parameters: {'n_filter1': 21, 'n_filter2': 176, 'dropout': 0.4225186753018412, 'learning_rate': 0.09406972566921751}. Best is trial 0 with value: 0.9869166612625122.\n"
     ]
    },
    {
     "name": "stdout",
     "output_type": "stream",
     "text": [
      "val_loss=0.3019470274448395, val_accuracy=0.9239166378974915\n",
      "pruned: epoch=3, loss=0.12795336544513702, val_loss=0.0618804469704628\n",
      "TrialPruned: \n"
     ]
    },
    {
     "name": "stderr",
     "output_type": "stream",
     "text": [
      "[I 2025-05-23 01:29:13,439] Trial 43 pruned. \n"
     ]
    },
    {
     "name": "stdout",
     "output_type": "stream",
     "text": [
      "pruned: epoch=9, loss=0.5222780108451843, val_loss=0.23624220490455627\n",
      "TrialPruned: \n"
     ]
    },
    {
     "name": "stderr",
     "output_type": "stream",
     "text": [
      "[I 2025-05-23 01:30:41,279] Trial 44 pruned. \n"
     ]
    },
    {
     "name": "stdout",
     "output_type": "stream",
     "text": [
      "best_params={'n_filter1': 24, 'n_filter2': 100, 'dropout': 0.05361584483320092, 'learning_rate': 0.018494386961884945} # trials=45, best_value=0.9869166612625122\n"
     ]
    },
    {
     "name": "stderr",
     "output_type": "stream",
     "text": [
      "[I 2025-05-23 01:31:11,629] Trial 45 pruned. \n"
     ]
    },
    {
     "name": "stdout",
     "output_type": "stream",
     "text": [
      "pruned: epoch=1, loss=0.05976339057087898, val_loss=0.05419545993208885\n",
      "TrialPruned: \n",
      "pruned: epoch=1, loss=0.43606001138687134, val_loss=0.21240249276161194\n",
      "TrialPruned: \n"
     ]
    },
    {
     "name": "stderr",
     "output_type": "stream",
     "text": [
      "[I 2025-05-23 01:31:40,561] Trial 46 pruned. \n"
     ]
    },
    {
     "name": "stdout",
     "output_type": "stream",
     "text": [
      "pruned: epoch=1, loss=0.23923131823539734, val_loss=0.10201647877693176\n",
      "TrialPruned: \n"
     ]
    },
    {
     "name": "stderr",
     "output_type": "stream",
     "text": [
      "[I 2025-05-23 01:32:41,980] Trial 47 pruned. \n",
      "[I 2025-05-23 01:33:49,468] Trial 48 pruned. \n"
     ]
    },
    {
     "name": "stdout",
     "output_type": "stream",
     "text": [
      "pruned: epoch=3, loss=2.3055078983306885, val_loss=2.306706666946411\n",
      "TrialPruned: \n",
      "pruned: epoch=1, loss=0.13081572949886322, val_loss=0.08346282690763474\n",
      "TrialPruned: \n"
     ]
    },
    {
     "name": "stderr",
     "output_type": "stream",
     "text": [
      "[I 2025-05-23 01:34:44,342] Trial 49 pruned. \n"
     ]
    },
    {
     "name": "stdout",
     "output_type": "stream",
     "text": [
      "best_params={'n_filter1': 24, 'n_filter2': 100, 'dropout': 0.05361584483320092, 'learning_rate': 0.018494386961884945} # trials=50, best_value=0.9869166612625122\n",
      "pruned: epoch=3, loss=0.3421437442302704, val_loss=0.2367119938135147\n",
      "TrialPruned: \n"
     ]
    },
    {
     "name": "stderr",
     "output_type": "stream",
     "text": [
      "[I 2025-05-23 01:36:00,398] Trial 50 pruned. \n"
     ]
    },
    {
     "name": "stdout",
     "output_type": "stream",
     "text": [
      "pruned: epoch=9, loss=2.3062634468078613, val_loss=2.3075451850891113\n",
      "TrialPruned: \n"
     ]
    },
    {
     "name": "stderr",
     "output_type": "stream",
     "text": [
      "[I 2025-05-23 01:40:25,189] Trial 51 pruned. \n",
      "[I 2025-05-23 01:41:27,063] Trial 52 pruned. \n"
     ]
    },
    {
     "name": "stdout",
     "output_type": "stream",
     "text": [
      "pruned: epoch=3, loss=0.5343818664550781, val_loss=0.23083807528018951\n",
      "TrialPruned: \n",
      "pruned: epoch=3, loss=0.28310349583625793, val_loss=0.20490747690200806\n",
      "TrialPruned: \n"
     ]
    },
    {
     "name": "stderr",
     "output_type": "stream",
     "text": [
      "[I 2025-05-23 01:47:20,049] Trial 53 pruned. \n",
      "[I 2025-05-23 01:59:33,430] Trial 54 finished with value: 0.9430833458900452 and parameters: {'n_filter1': 42, 'n_filter2': 256, 'dropout': 0.39506335954935257, 'learning_rate': 0.08314013954892308}. Best is trial 0 with value: 0.9869166612625122.\n"
     ]
    },
    {
     "name": "stdout",
     "output_type": "stream",
     "text": [
      "val_loss=0.19390195608139038, val_accuracy=0.9430833458900452\n",
      "best_params={'n_filter1': 24, 'n_filter2': 100, 'dropout': 0.05361584483320092, 'learning_rate': 0.018494386961884945} # trials=55, best_value=0.9869166612625122\n",
      "pruned: epoch=3, loss=0.46572598814964294, val_loss=0.19660983979701996\n",
      "TrialPruned: \n"
     ]
    },
    {
     "name": "stderr",
     "output_type": "stream",
     "text": [
      "[I 2025-05-23 02:02:00,912] Trial 55 pruned. \n",
      "[I 2025-05-23 02:12:04,778] Trial 56 finished with value: 0.9471666812896729 and parameters: {'n_filter1': 45, 'n_filter2': 253, 'dropout': 0.3647901698797146, 'learning_rate': 0.0733462893264066}. Best is trial 0 with value: 0.9869166612625122.\n"
     ]
    },
    {
     "name": "stdout",
     "output_type": "stream",
     "text": [
      "val_loss=0.19855035841464996, val_accuracy=0.9471666812896729\n",
      "pruned: epoch=1, loss=0.36783474683761597, val_loss=0.17763125896453857\n",
      "TrialPruned: \n"
     ]
    },
    {
     "name": "stderr",
     "output_type": "stream",
     "text": [
      "[I 2025-05-23 02:13:34,557] Trial 57 pruned. \n"
     ]
    },
    {
     "name": "stdout",
     "output_type": "stream",
     "text": [
      "pruned: epoch=3, loss=0.23278047144412994, val_loss=0.12182573229074478\n",
      "TrialPruned: \n"
     ]
    },
    {
     "name": "stderr",
     "output_type": "stream",
     "text": [
      "[I 2025-05-23 02:16:56,307] Trial 58 pruned. \n",
      "[I 2025-05-23 02:18:20,346] Trial 59 pruned. \n"
     ]
    },
    {
     "name": "stdout",
     "output_type": "stream",
     "text": [
      "pruned: epoch=1, loss=0.31853926181793213, val_loss=0.16800247132778168\n",
      "TrialPruned: \n",
      "best_params={'n_filter1': 24, 'n_filter2': 100, 'dropout': 0.05361584483320092, 'learning_rate': 0.018494386961884945} # trials=60, best_value=0.9869166612625122\n",
      "pruned: epoch=1, loss=0.406903475522995, val_loss=0.18474580347537994\n",
      "TrialPruned: \n"
     ]
    },
    {
     "name": "stderr",
     "output_type": "stream",
     "text": [
      "[I 2025-05-23 02:19:10,894] Trial 60 pruned. \n",
      "[I 2025-05-23 02:19:42,880] Trial 61 pruned. \n"
     ]
    },
    {
     "name": "stdout",
     "output_type": "stream",
     "text": [
      "pruned: epoch=1, loss=0.4589962065219879, val_loss=0.21608154475688934\n",
      "TrialPruned: \n"
     ]
    },
    {
     "name": "stderr",
     "output_type": "stream",
     "text": [
      "[I 2025-05-23 02:24:39,140] Trial 62 finished with value: 0.9433333277702332 and parameters: {'n_filter1': 38, 'n_filter2': 248, 'dropout': 0.4110795407018494, 'learning_rate': 0.07777323971560376}. Best is trial 0 with value: 0.9869166612625122.\n"
     ]
    },
    {
     "name": "stdout",
     "output_type": "stream",
     "text": [
      "val_loss=0.19500477612018585, val_accuracy=0.9433333277702332\n",
      "pruned: epoch=1, loss=0.4132847189903259, val_loss=0.15188446640968323\n",
      "TrialPruned: \n"
     ]
    },
    {
     "name": "stderr",
     "output_type": "stream",
     "text": [
      "[I 2025-05-23 02:25:20,179] Trial 63 pruned. \n"
     ]
    },
    {
     "name": "stdout",
     "output_type": "stream",
     "text": [
      "pruned: epoch=9, loss=2.3061065673828125, val_loss=2.307401180267334\n",
      "TrialPruned: \n"
     ]
    },
    {
     "name": "stderr",
     "output_type": "stream",
     "text": [
      "[I 2025-05-23 02:28:40,687] Trial 64 pruned. \n"
     ]
    },
    {
     "name": "stdout",
     "output_type": "stream",
     "text": [
      "best_params={'n_filter1': 24, 'n_filter2': 100, 'dropout': 0.05361584483320092, 'learning_rate': 0.018494386961884945} # trials=65, best_value=0.9869166612625122\n"
     ]
    },
    {
     "name": "stderr",
     "output_type": "stream",
     "text": [
      "[I 2025-05-23 02:32:38,261] Trial 65 pruned. \n"
     ]
    },
    {
     "name": "stdout",
     "output_type": "stream",
     "text": [
      "pruned: epoch=9, loss=0.29715773463249207, val_loss=0.15610508620738983\n",
      "TrialPruned: \n",
      "pruned: epoch=3, loss=0.3310917913913727, val_loss=0.24487242102622986\n",
      "TrialPruned: \n"
     ]
    },
    {
     "name": "stderr",
     "output_type": "stream",
     "text": [
      "[I 2025-05-23 02:34:13,985] Trial 66 pruned. \n"
     ]
    },
    {
     "name": "stdout",
     "output_type": "stream",
     "text": [
      "pruned: epoch=3, loss=2.3056282997131348, val_loss=2.3068628311157227\n",
      "TrialPruned: \n"
     ]
    },
    {
     "name": "stderr",
     "output_type": "stream",
     "text": [
      "[I 2025-05-23 02:35:57,725] Trial 67 pruned. \n"
     ]
    },
    {
     "name": "stdout",
     "output_type": "stream",
     "text": [
      "pruned: epoch=9, loss=0.11941530555486679, val_loss=0.0772080272436142\n",
      "TrialPruned: \n"
     ]
    },
    {
     "name": "stderr",
     "output_type": "stream",
     "text": [
      "[I 2025-05-23 02:38:46,079] Trial 68 pruned. \n"
     ]
    },
    {
     "name": "stdout",
     "output_type": "stream",
     "text": [
      "pruned: epoch=3, loss=0.3257179856300354, val_loss=0.1524767130613327\n",
      "TrialPruned: \n"
     ]
    },
    {
     "name": "stderr",
     "output_type": "stream",
     "text": [
      "[I 2025-05-23 02:39:56,383] Trial 69 pruned. \n"
     ]
    },
    {
     "name": "stdout",
     "output_type": "stream",
     "text": [
      "best_params={'n_filter1': 24, 'n_filter2': 100, 'dropout': 0.05361584483320092, 'learning_rate': 0.018494386961884945} # trials=70, best_value=0.9869166612625122\n",
      "pruned: epoch=3, loss=0.3967103958129883, val_loss=0.1965208798646927\n",
      "TrialPruned: \n"
     ]
    },
    {
     "name": "stderr",
     "output_type": "stream",
     "text": [
      "[I 2025-05-23 02:41:50,919] Trial 70 pruned. \n"
     ]
    },
    {
     "name": "stdout",
     "output_type": "stream",
     "text": [
      "pruned: epoch=3, loss=0.6340009570121765, val_loss=0.2965673506259918\n",
      "TrialPruned: \n"
     ]
    },
    {
     "name": "stderr",
     "output_type": "stream",
     "text": [
      "[I 2025-05-23 02:42:29,026] Trial 71 pruned. \n",
      "[I 2025-05-23 02:45:48,717] Trial 72 finished with value: 0.925000011920929 and parameters: {'n_filter1': 29, 'n_filter2': 201, 'dropout': 0.4210307238651265, 'learning_rate': 0.09646370273485039}. Best is trial 0 with value: 0.9869166612625122.\n"
     ]
    },
    {
     "name": "stdout",
     "output_type": "stream",
     "text": [
      "val_loss=0.2486899346113205, val_accuracy=0.925000011920929\n",
      "pruned: epoch=1, loss=0.4656490385532379, val_loss=0.16626271605491638\n",
      "TrialPruned: \n"
     ]
    },
    {
     "name": "stderr",
     "output_type": "stream",
     "text": [
      "[I 2025-05-23 02:46:08,108] Trial 73 pruned. \n"
     ]
    },
    {
     "name": "stdout",
     "output_type": "stream",
     "text": [
      "pruned: epoch=3, loss=0.627241849899292, val_loss=0.6144784092903137\n",
      "TrialPruned: \n"
     ]
    },
    {
     "name": "stderr",
     "output_type": "stream",
     "text": [
      "[I 2025-05-23 02:47:07,883] Trial 74 pruned. \n"
     ]
    },
    {
     "name": "stdout",
     "output_type": "stream",
     "text": [
      "best_params={'n_filter1': 24, 'n_filter2': 100, 'dropout': 0.05361584483320092, 'learning_rate': 0.018494386961884945} # trials=75, best_value=0.9869166612625122\n",
      "pruned: epoch=3, loss=0.10957071930170059, val_loss=0.11066634207963943\n",
      "TrialPruned: \n"
     ]
    },
    {
     "name": "stderr",
     "output_type": "stream",
     "text": [
      "[I 2025-05-23 02:47:52,516] Trial 75 pruned. \n",
      "[I 2025-05-23 02:50:26,804] Trial 76 finished with value: 0.9241666793823242 and parameters: {'n_filter1': 43, 'n_filter2': 94, 'dropout': 0.43606779538472024, 'learning_rate': 0.08718042151637931}. Best is trial 0 with value: 0.9869166612625122.\n"
     ]
    },
    {
     "name": "stdout",
     "output_type": "stream",
     "text": [
      "val_loss=0.2556634247303009, val_accuracy=0.9241666793823242\n",
      "pruned: epoch=3, loss=0.0744602158665657, val_loss=0.058351460844278336\n",
      "TrialPruned: \n"
     ]
    },
    {
     "name": "stderr",
     "output_type": "stream",
     "text": [
      "[I 2025-05-23 02:51:42,091] Trial 77 pruned. \n"
     ]
    },
    {
     "name": "stdout",
     "output_type": "stream",
     "text": [
      "pruned: epoch=1, loss=0.4471017122268677, val_loss=0.24856506288051605\n",
      "TrialPruned: \n"
     ]
    },
    {
     "name": "stderr",
     "output_type": "stream",
     "text": [
      "[I 2025-05-23 02:52:42,319] Trial 78 pruned. \n",
      "[I 2025-05-23 02:54:49,832] Trial 79 finished with value: 0.1080833300948143 and parameters: {'n_filter1': 19, 'n_filter2': 163, 'dropout': 0.38723869341556166, 'learning_rate': 0.09571426324963128}. Best is trial 0 with value: 0.9869166612625122.\n"
     ]
    },
    {
     "name": "stdout",
     "output_type": "stream",
     "text": [
      "val_loss=2.3080239295959473, val_accuracy=0.1080833300948143\n",
      "best_params={'n_filter1': 24, 'n_filter2': 100, 'dropout': 0.05361584483320092, 'learning_rate': 0.018494386961884945} # trials=80, best_value=0.9869166612625122\n",
      "pruned: epoch=1, loss=0.06146068498492241, val_loss=0.0520334467291832\n",
      "TrialPruned: \n"
     ]
    },
    {
     "name": "stderr",
     "output_type": "stream",
     "text": [
      "[I 2025-05-23 02:55:19,589] Trial 80 pruned. \n",
      "[I 2025-05-23 02:57:56,443] Trial 81 finished with value: 0.9420833587646484 and parameters: {'n_filter1': 42, 'n_filter2': 99, 'dropout': 0.4379821050497921, 'learning_rate': 0.08771877202097236}. Best is trial 0 with value: 0.9869166612625122.\n"
     ]
    },
    {
     "name": "stdout",
     "output_type": "stream",
     "text": [
      "val_loss=0.1925402283668518, val_accuracy=0.9420833587646484\n"
     ]
    },
    {
     "name": "stderr",
     "output_type": "stream",
     "text": [
      "[I 2025-05-23 03:00:15,455] Trial 82 finished with value: 0.8793333172798157 and parameters: {'n_filter1': 49, 'n_filter2': 78, 'dropout': 0.48467892301685706, 'learning_rate': 0.09213052737641847}. Best is trial 0 with value: 0.9869166612625122.\n"
     ]
    },
    {
     "name": "stdout",
     "output_type": "stream",
     "text": [
      "val_loss=0.422220915555954, val_accuracy=0.8793333172798157\n",
      "pruned: epoch=1, loss=0.28164368867874146, val_loss=0.2053453028202057\n",
      "TrialPruned: \n"
     ]
    },
    {
     "name": "stderr",
     "output_type": "stream",
     "text": [
      "[I 2025-05-23 03:00:30,747] Trial 83 pruned. \n",
      "[I 2025-05-23 03:02:50,965] Trial 84 finished with value: 0.9194166660308838 and parameters: {'n_filter1': 40, 'n_filter2': 98, 'dropout': 0.4643985061805572, 'learning_rate': 0.09638836601354665}. Best is trial 0 with value: 0.9869166612625122.\n"
     ]
    },
    {
     "name": "stdout",
     "output_type": "stream",
     "text": [
      "val_loss=0.314881294965744, val_accuracy=0.9194166660308838\n",
      "best_params={'n_filter1': 24, 'n_filter2': 100, 'dropout': 0.05361584483320092, 'learning_rate': 0.018494386961884945} # trials=85, best_value=0.9869166612625122\n"
     ]
    },
    {
     "name": "stderr",
     "output_type": "stream",
     "text": [
      "[I 2025-05-23 03:06:00,949] Trial 85 finished with value: 0.9246666431427002 and parameters: {'n_filter1': 46, 'n_filter2': 121, 'dropout': 0.43342330314896277, 'learning_rate': 0.0997438409903405}. Best is trial 0 with value: 0.9869166612625122.\n"
     ]
    },
    {
     "name": "stdout",
     "output_type": "stream",
     "text": [
      "val_loss=0.32081249356269836, val_accuracy=0.9246666431427002\n"
     ]
    },
    {
     "name": "stderr",
     "output_type": "stream",
     "text": [
      "[I 2025-05-23 03:08:10,142] Trial 86 finished with value: 0.1080833300948143 and parameters: {'n_filter1': 30, 'n_filter2': 110, 'dropout': 0.058949704419688095, 'learning_rate': 0.08998899385982606}. Best is trial 0 with value: 0.9869166612625122.\n"
     ]
    },
    {
     "name": "stdout",
     "output_type": "stream",
     "text": [
      "val_loss=2.3078713417053223, val_accuracy=0.1080833300948143\n",
      "pruned: epoch=1, loss=0.1641344577074051, val_loss=0.07033675163984299\n",
      "TrialPruned: \n"
     ]
    },
    {
     "name": "stderr",
     "output_type": "stream",
     "text": [
      "[I 2025-05-23 03:08:36,401] Trial 87 pruned. \n"
     ]
    },
    {
     "name": "stdout",
     "output_type": "stream",
     "text": [
      "pruned: epoch=9, loss=0.49774110317230225, val_loss=0.20820902287960052\n",
      "TrialPruned: \n"
     ]
    },
    {
     "name": "stderr",
     "output_type": "stream",
     "text": [
      "[I 2025-05-23 03:11:07,508] Trial 88 pruned. \n"
     ]
    },
    {
     "name": "stdout",
     "output_type": "stream",
     "text": [
      "pruned: epoch=1, loss=0.3504413366317749, val_loss=0.2081010937690735\n",
      "TrialPruned: \n"
     ]
    },
    {
     "name": "stderr",
     "output_type": "stream",
     "text": [
      "[I 2025-05-23 03:11:31,705] Trial 89 pruned. \n"
     ]
    },
    {
     "name": "stdout",
     "output_type": "stream",
     "text": [
      "best_params={'n_filter1': 24, 'n_filter2': 100, 'dropout': 0.05361584483320092, 'learning_rate': 0.018494386961884945} # trials=90, best_value=0.9869166612625122\n"
     ]
    },
    {
     "name": "stderr",
     "output_type": "stream",
     "text": [
      "[I 2025-05-23 03:14:44,908] Trial 90 finished with value: 0.1080833300948143 and parameters: {'n_filter1': 57, 'n_filter2': 103, 'dropout': 0.18637294196405332, 'learning_rate': 0.08351808578097955}. Best is trial 0 with value: 0.9869166612625122.\n"
     ]
    },
    {
     "name": "stdout",
     "output_type": "stream",
     "text": [
      "val_loss=2.3076107501983643, val_accuracy=0.1080833300948143\n"
     ]
    },
    {
     "name": "stderr",
     "output_type": "stream",
     "text": [
      "[I 2025-05-23 03:15:38,078] Trial 91 pruned. \n"
     ]
    },
    {
     "name": "stdout",
     "output_type": "stream",
     "text": [
      "pruned: epoch=3, loss=0.6394162178039551, val_loss=0.240950807929039\n",
      "TrialPruned: \n"
     ]
    },
    {
     "name": "stderr",
     "output_type": "stream",
     "text": [
      "[I 2025-05-23 03:18:53,729] Trial 92 finished with value: 0.1080833300948143 and parameters: {'n_filter1': 52, 'n_filter2': 120, 'dropout': 0.4504836969922834, 'learning_rate': 0.09917706933615085}. Best is trial 0 with value: 0.9869166612625122.\n"
     ]
    },
    {
     "name": "stdout",
     "output_type": "stream",
     "text": [
      "val_loss=2.3080883026123047, val_accuracy=0.1080833300948143\n",
      "pruned: epoch=9, loss=0.27362242341041565, val_loss=0.11797667294740677\n",
      "TrialPruned: \n"
     ]
    },
    {
     "name": "stderr",
     "output_type": "stream",
     "text": [
      "[I 2025-05-23 03:20:56,094] Trial 93 pruned. \n"
     ]
    },
    {
     "name": "stdout",
     "output_type": "stream",
     "text": [
      "pruned: epoch=3, loss=0.7057058215141296, val_loss=0.31671762466430664\n",
      "TrialPruned: \n"
     ]
    },
    {
     "name": "stderr",
     "output_type": "stream",
     "text": [
      "[I 2025-05-23 03:21:35,757] Trial 94 pruned. \n"
     ]
    },
    {
     "name": "stdout",
     "output_type": "stream",
     "text": [
      "best_params={'n_filter1': 24, 'n_filter2': 100, 'dropout': 0.05361584483320092, 'learning_rate': 0.018494386961884945} # trials=95, best_value=0.9869166612625122\n",
      "pruned: epoch=1, loss=0.49051669239997864, val_loss=0.18172027170658112\n",
      "TrialPruned: \n"
     ]
    },
    {
     "name": "stderr",
     "output_type": "stream",
     "text": [
      "[I 2025-05-23 03:21:48,360] Trial 95 pruned. \n"
     ]
    },
    {
     "name": "stdout",
     "output_type": "stream",
     "text": [
      "pruned: epoch=1, loss=0.3032459020614624, val_loss=0.3073215186595917\n",
      "TrialPruned: \n"
     ]
    },
    {
     "name": "stderr",
     "output_type": "stream",
     "text": [
      "[I 2025-05-23 03:22:16,842] Trial 96 pruned. \n",
      "[I 2025-05-23 03:24:30,080] Trial 97 finished with value: 0.9072499871253967 and parameters: {'n_filter1': 38, 'n_filter2': 94, 'dropout': 0.32147821426141, 'learning_rate': 0.09160503836504835}. Best is trial 0 with value: 0.9869166612625122.\n"
     ]
    },
    {
     "name": "stdout",
     "output_type": "stream",
     "text": [
      "val_loss=0.33608394861221313, val_accuracy=0.9072499871253967\n",
      "pruned: epoch=9, loss=0.39708268642425537, val_loss=0.14592228829860687\n",
      "TrialPruned: \n"
     ]
    },
    {
     "name": "stderr",
     "output_type": "stream",
     "text": [
      "[I 2025-05-23 03:26:26,476] Trial 98 pruned. \n",
      "[I 2025-05-23 03:27:12,774] Trial 99 pruned. \n"
     ]
    },
    {
     "name": "stdout",
     "output_type": "stream",
     "text": [
      "pruned: epoch=1, loss=0.3513062000274658, val_loss=0.16825664043426514\n",
      "TrialPruned: \n",
      "best_params={'n_filter1': 24, 'n_filter2': 100, 'dropout': 0.05361584483320092, 'learning_rate': 0.018494386961884945} # trials=100, best_value=0.9869166612625122\n"
     ]
    }
   ],
   "source": [
    "# 最適化実行\n",
    "for i in range(N_LOOPS):\n",
    "    # ハイパーパラメータ最適化\n",
    "    study.optimize(objective, n_trials=N_TRIALS)\n",
    "\n",
    "    sum_trials = N_TRIALS*(i+1)\n",
    "\n",
    "    # ハイパーパラメータ最適化の結果\n",
    "    print(f'best_params={study.best_params} # trials={sum_trials}, best_value={study.best_value}')\n",
    "    best_params = study.best_params\n",
    "\n",
    "    # 結果保存\n",
    "    with open(f'{SAVE_NAME}{sum_trials:04d}.pkl', 'wb') as f:\n",
    "        pickle.dump(study, f)\n",
    "\n",
    "    # 古いシンボリックリンクがあれば削除\n",
    "    if os.path.islink('study.pkl'):\n",
    "        os.remove('study.pkl')\n",
    "\n",
    "    try:\n",
    "        # 最新の結果をstudy.pklとしてシンボリックリンクを作っておく\n",
    "        os.symlink(f'{SAVE_NAME}{sum_trials:04d}.pkl', 'study.pkl')\n",
    "    except Exception as e:\n",
    "        # シンボリックリンクがだめならコピーする\n",
    "        shutil.copy2(f'{SAVE_NAME}{sum_trials:04d}.pkl', 'study.pkl')"
   ]
  },
  {
   "cell_type": "code",
   "execution_count": 13,
   "id": "12",
   "metadata": {},
   "outputs": [
    {
     "name": "stdout",
     "output_type": "stream",
     "text": [
      "elapsed time: 15002.350652217865[sec]\n"
     ]
    }
   ],
   "source": [
    "# 所要時間表示\n",
    "elapsed_time = time.time() - start_time\n",
    "print(f'elapsed time: {elapsed_time}[sec]')"
   ]
  },
  {
   "cell_type": "code",
   "execution_count": 14,
   "id": "13",
   "metadata": {
    "tags": []
   },
   "outputs": [
    {
     "name": "stdout",
     "output_type": "stream",
     "text": [
      "best_params: {'n_filter1': 24, 'n_filter2': 100, 'dropout': 0.05361584483320092, 'learning_rate': 0.018494386961884945}\n",
      "best_value: 0.9869166612625122\n"
     ]
    }
   ],
   "source": [
    "# 結果表示\n",
    "print(f'best_params: {study.best_params}')\n",
    "print(f'best_value: {study.best_value}')"
   ]
  }
 ],
 "metadata": {
  "kernelspec": {
   "display_name": "3.12",
   "language": "python",
   "name": "python3"
  },
  "language_info": {
   "codemirror_mode": {
    "name": "ipython",
    "version": 3
   },
   "file_extension": ".py",
   "mimetype": "text/x-python",
   "name": "python",
   "nbconvert_exporter": "python",
   "pygments_lexer": "ipython3",
   "version": "3.12.10"
  }
 },
 "nbformat": 4,
 "nbformat_minor": 5
}
